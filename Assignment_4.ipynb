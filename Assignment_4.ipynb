{
 "cells": [
  {
   "cell_type": "code",
   "execution_count": 1,
   "metadata": {},
   "outputs": [
    {
     "name": "stdout",
     "output_type": "stream",
     "text": [
      "First_name  =>  Izkah\n",
      "Last_name  =>  Jawaid\n",
      "Age  =>  21\n",
      "City  =>  Karachi\n",
      "Updated:  {'First_name': 'Izkah', 'Last_name': 'Jawaid', 'Age': 21, 'City': 'Karachi', 'Qualification': 'High Academic Level'}\n",
      "Deleted:  {'First_name': 'Izkah', 'Last_name': 'Jawaid', 'Age': 21, 'City': 'Karachi'}\n"
     ]
    }
   ],
   "source": [
    "#Exercise 1\n",
    "info = {\"First_name\":\"Izkah\",\"Last_name\":\"Jawaid\",\"Age\":21,\"City\":\"Karachi\"}\n",
    "for i in info.keys():\n",
    "    print(i,\" => \",info[i])\n",
    "info[\"Qualification\"]=\"High Academic Level\"\n",
    "print(\"Updated: \",info)\n",
    "del info['Qualification']\n",
    "print(\"Deleted: \",info)"
   ]
  },
  {
   "cell_type": "code",
   "execution_count": 2,
   "metadata": {},
   "outputs": [
    {
     "name": "stdout",
     "output_type": "stream",
     "text": [
      "*** Karachi *** \n",
      "Country:  Pakistan \n",
      "Population:  216 million \n",
      "Fact:  World's Largest Deep Sea Port \n",
      "\n",
      "*** New York *** \n",
      "Country:  United States of America \n",
      "Population:  329.45 million \n",
      "Fact:  Mount Rushmore Monument in the United States shows the heads of the four former presidents of the United States \n",
      "\n",
      "*** Jeddah *** \n",
      "Country:  Saudi Arabia \n",
      "Population:  34.14 million \n",
      "Fact:  Saudi Arabia is an Islamic country with a monarchy system \n",
      "\n"
     ]
    }
   ],
   "source": [
    "#Exercise 2\n",
    "cities = {\n",
    "    'Karachi': {\n",
    "        'country': 'Pakistan',\n",
    "        'population': \"216 million\",\n",
    "        'fact': \"World's Largest Deep Sea Port\",\n",
    "        },\n",
    "    'New York': {\n",
    "        'country': 'United States of America',\n",
    "        'population': \"329.45 million\",\n",
    "        'fact': 'Mount Rushmore Monument in the United States shows the heads of the four former presidents of the United States',\n",
    "        },\n",
    "    'Jeddah': {\n",
    "        'country': 'Saudi Arabia',\n",
    "        'population': '34.14 million',\n",
    "        'fact': 'Saudi Arabia is an Islamic country with a monarchy system',\n",
    "        }\n",
    "    }\n",
    "\n",
    "for i in cities.keys():\n",
    "    print(\"***\",i,\"***\",\"\\nCountry: \",cities[i]['country'],\"\\nPopulation: \",cities[i]['population'],\"\\nFact: \",cities[i]['fact'],'\\n')\n"
   ]
  },
  {
   "cell_type": "code",
   "execution_count": 3,
   "metadata": {},
   "outputs": [
    {
     "name": "stdout",
     "output_type": "stream",
     "text": [
      "No. of customers: 3\n",
      "Enter Age: 2\n",
      "Enter Age: 5\n",
      "Enter Age: 14\n",
      "Total amount of  3  customer is $ 25\n"
     ]
    }
   ],
   "source": [
    "#Exercise 3\n",
    "n = int(input(\"No. of customers: \"))\n",
    "l = []\n",
    "cost = 0\n",
    "for x in range(0,n):\n",
    "    a = int(input(\"Enter Age: \"))\n",
    "    l.append(a)\n",
    "for i in l:\n",
    "    if i < 3:\n",
    "        cost += 0\n",
    "    elif i>3 and i<12:\n",
    "        cost += 10\n",
    "    elif i>12:\n",
    "        cost += 15\n",
    "    else:\n",
    "        cost += 0\n",
    "print(\"Total amount of \",n,\" customer is $\",cost)"
   ]
  },
  {
   "cell_type": "code",
   "execution_count": 4,
   "metadata": {},
   "outputs": [
    {
     "name": "stdout",
     "output_type": "stream",
     "text": [
      "One of my favorite  Mind Platter\n"
     ]
    }
   ],
   "source": [
    "#Exercise 4\n",
    "def favorite_book(book_title):\n",
    "    print(\"One of my favorite \",book_title)\n",
    "favorite_book(\"Mind Platter\")"
   ]
  },
  {
   "cell_type": "code",
   "execution_count": 5,
   "metadata": {},
   "outputs": [
    {
     "name": "stdout",
     "output_type": "stream",
     "text": [
      "Guess a number: 6\n",
      "Guessed number is less than the actual one\n",
      "Guess a number: 28\n",
      "Guessed number is greater than the actual one\n",
      "Guess a number: 15\n",
      "Guessed number is less than the actual one\n",
      "Correct Answer is  25 \n",
      "Better Luck Next Time\n"
     ]
    }
   ],
   "source": [
    "#Exercise 5\n",
    "import random\n",
    "number = random.randint(1,30)\n",
    "n=0\n",
    "while n<3:\n",
    "    guess = int(input(\"Guess a number: \"))\n",
    "    if guess < number:\n",
    "        print(\"Guessed number is less than the actual one\")\n",
    "        n+=1\n",
    "        continue\n",
    "    elif guess > number:\n",
    "        print(\"Guessed number is greater than the actual one\")\n",
    "        n+=1\n",
    "        continue\n",
    "    else:\n",
    "        print(\"Brilliant! You,ve guessed it\")\n",
    "        break\n",
    "if n == 3:\n",
    "    print(\"Correct Answer is \",number,\"\\nBetter Luck Next Time\")\n"
   ]
  },
  {
   "cell_type": "code",
   "execution_count": null,
   "metadata": {},
   "outputs": [],
   "source": []
  }
 ],
 "metadata": {
  "kernelspec": {
   "display_name": "Python 3",
   "language": "python",
   "name": "python3"
  },
  "language_info": {
   "codemirror_mode": {
    "name": "ipython",
    "version": 3
   },
   "file_extension": ".py",
   "mimetype": "text/x-python",
   "name": "python",
   "nbconvert_exporter": "python",
   "pygments_lexer": "ipython3",
   "version": "3.7.4"
  }
 },
 "nbformat": 4,
 "nbformat_minor": 2
}
