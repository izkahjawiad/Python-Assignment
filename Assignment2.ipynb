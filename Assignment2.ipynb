{
 "cells": [
  {
   "cell_type": "code",
   "execution_count": 1,
   "metadata": {},
   "outputs": [
    {
     "name": "stdout",
     "output_type": "stream",
     "text": [
      "Marks in Mathematics: 98\n",
      "Marks in Physics: 85\n",
      "Marks in Chemistry: 88\n",
      "Marks in Urdu: 85\n",
      "Marks in Islamiat: 85\n",
      "Mathematics:  98\n",
      "Physics:  85\n",
      "Chemistry:  88\n",
      "Urdu:  85\n",
      "Islamiat:  85\n",
      "Your Grade is A+\n"
     ]
    }
   ],
   "source": [
    "#Exercise 1\n",
    "a = int(input(\"Marks in Mathematics: \"))\n",
    "b = int(input(\"Marks in Physics: \"))\n",
    "c = int(input(\"Marks in Chemistry: \"))\n",
    "d = int(input(\"Marks in Urdu: \"))\n",
    "e = int(input(\"Marks in Islamiat: \"))\n",
    "total = a+b+c+d+e\n",
    "avg = total/5\n",
    "print(\"Mathematics: \",a)\n",
    "print(\"Physics: \",b)\n",
    "print(\"Chemistry: \",c)\n",
    "print(\"Urdu: \",d)\n",
    "print(\"Islamiat: \",e)\n",
    "if avg>=80:\n",
    "    print(\"Your Grade is A+\")\n",
    "elif avg>=70:\n",
    "    print(\"Your Grade is A\")\n",
    "elif avg >=60:\n",
    "    print(\"Your Grade is B\")\n",
    "elif avg>=50:\n",
    "    print(\"Your Grade is C\")\n",
    "elif avg>40:\n",
    "    print(\"Your Grade is D\")\n",
    "else:\n",
    "    print(\"Your Grade in F\")"
   ]
  },
  {
   "cell_type": "code",
   "execution_count": 2,
   "metadata": {},
   "outputs": [
    {
     "name": "stdout",
     "output_type": "stream",
     "text": [
      "Enter Number: 7\n",
      "7 is Odd Number\n"
     ]
    }
   ],
   "source": [
    "#Exercise 2\n",
    "n = int(input(\"Enter Number: \"))\n",
    "if n%2 == 0:\n",
    "    print(str(n) +\" is Even Number\")\n",
    "\n",
    "else:\n",
    "    print(str(n) +\" is Odd Number\")"
   ]
  },
  {
   "cell_type": "code",
   "execution_count": 3,
   "metadata": {},
   "outputs": [
    {
     "name": "stdout",
     "output_type": "stream",
     "text": [
      "The length of the list is 6\n"
     ]
    }
   ],
   "source": [
    "#Exercise 3\n",
    "L = [1,2,3,4,5,6]\n",
    "a = len(L)\n",
    "print(\"The length of the list is \"+str(a))"
   ]
  },
  {
   "cell_type": "code",
   "execution_count": 4,
   "metadata": {},
   "outputs": [
    {
     "name": "stdout",
     "output_type": "stream",
     "text": [
      "The Sum of all Numerics in the list is 10\n"
     ]
    }
   ],
   "source": [
    "#Exercise 4\n",
    "l = [1,'a',2,3,'c',4]\n",
    "s = 0\n",
    "x = type(5)\n",
    "y = type(\"a\")\n",
    "for i in l:\n",
    "    if type(i) == x:\n",
    "        s += i\n",
    "    else:\n",
    "        s += 0\n",
    "print(\"The Sum of all Numerics in the list is \"+str(s))"
   ]
  },
  {
   "cell_type": "code",
   "execution_count": 5,
   "metadata": {},
   "outputs": [
    {
     "name": "stdout",
     "output_type": "stream",
     "text": [
      "10 is the largest number in the list\n"
     ]
    }
   ],
   "source": [
    "#Exercise 5\n",
    "l = [1,2,9,3,6,8,10]\n",
    "count = 0\n",
    "for a in l:\n",
    "    for b in l:\n",
    "        if a >= b:\n",
    "            count += 1\n",
    "            if count == len(l):\n",
    "                print(str(a)+\" is the largest number in the list\")\n",
    "        else:\n",
    "            count = 0"
   ]
  },
  {
   "cell_type": "code",
   "execution_count": 6,
   "metadata": {},
   "outputs": [
    {
     "name": "stdout",
     "output_type": "stream",
     "text": [
      "1 is less than 5\n",
      "3 is less than 5\n",
      "4 is less than 5\n"
     ]
    }
   ],
   "source": [
    "#Exercise 6\n",
    "l=[1,5,3,6,4,5,6,7,8,9,10]\n",
    "for i in l:\n",
    "    if i<5:\n",
    "        print(str(i)+\" is less than 5\")\n",
    "    else:\n",
    "        pass\n",
    "    "
   ]
  },
  {
   "cell_type": "code",
   "execution_count": null,
   "metadata": {},
   "outputs": [],
   "source": []
  }
 ],
 "metadata": {
  "kernelspec": {
   "display_name": "Python 3",
   "language": "python",
   "name": "python3"
  },
  "language_info": {
   "codemirror_mode": {
    "name": "ipython",
    "version": 3
   },
   "file_extension": ".py",
   "mimetype": "text/x-python",
   "name": "python",
   "nbconvert_exporter": "python",
   "pygments_lexer": "ipython3",
   "version": "3.7.4"
  }
 },
 "nbformat": 4,
 "nbformat_minor": 2
}
