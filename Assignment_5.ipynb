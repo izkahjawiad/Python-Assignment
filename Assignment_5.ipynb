{
 "cells": [
  {
   "cell_type": "code",
   "execution_count": 2,
   "metadata": {},
   "outputs": [
    {
     "name": "stdout",
     "output_type": "stream",
     "text": [
      "Sorry, factorial does not exist for negative numbers\n",
      "The factorial of 0 is 1\n",
      "The Factorial is  720\n"
     ]
    }
   ],
   "source": [
    "#Exercise 1\n",
    "def fact(num):\n",
    "    factorial = 1\n",
    "    if num < 0:\n",
    "       print(\"Sorry, factorial does not exist for negative numbers\")\n",
    "    elif num == 0:\n",
    "       print(\"The factorial of 0 is 1\")\n",
    "    else:\n",
    "        for i in range(1,num + 1):\n",
    "            factorial = factorial*i\n",
    "        return factorial\n",
    "\n",
    "fact(-2)\n",
    "fact(0)\n",
    "print(\"The Factorial is \",fact(6))"
   ]
  },
  {
   "cell_type": "code",
   "execution_count": 3,
   "metadata": {},
   "outputs": [
    {
     "name": "stdout",
     "output_type": "stream",
     "text": [
      "The number of Upper Case Letter is  3\n",
      "The number of Lower Case Letter is  2\n"
     ]
    }
   ],
   "source": [
    "#Exercise 2\n",
    "def strg(a):\n",
    "    x = 0\n",
    "    y = 0\n",
    "    for i in a:\n",
    "        if i.isupper():\n",
    "            x += 1\n",
    "        elif i.islower():\n",
    "            y += 1\n",
    "        else:\n",
    "            x += 0\n",
    "            y += 0\n",
    "            \n",
    "    print(\"The number of Upper Case Letter is \",x)\n",
    "    print(\"The number of Lower Case Letter is \",y)\n",
    "\n",
    "strg(\"IzKaH\")"
   ]
  },
  {
   "cell_type": "code",
   "execution_count": 4,
   "metadata": {},
   "outputs": [
    {
     "name": "stdout",
     "output_type": "stream",
     "text": [
      "0  is Even Number\n",
      "1  is Odd Number\n",
      "2  is Even Number\n",
      "3  is Odd Number\n",
      "4  is Even Number\n",
      "5  is Odd Number\n",
      "6  is Even Number\n"
     ]
    }
   ],
   "source": [
    "#Exercise 3\n",
    "def List(L):\n",
    "    for i in L:\n",
    "        if i%2 == 0:\n",
    "            print(i,\" is Even Number\")\n",
    "        else:\n",
    "            print(i,\" is Odd Number\")\n",
    "\n",
    "List([0,1,2,3,4,5,6])"
   ]
  },
  {
   "cell_type": "code",
   "execution_count": 5,
   "metadata": {},
   "outputs": [
    {
     "name": "stdout",
     "output_type": "stream",
     "text": [
      "izkah  is not palindrome\n",
      "madam  is palindrome\n"
     ]
    }
   ],
   "source": [
    "#Exercise 4\n",
    "def palindrome(a):\n",
    "    if a == a[::-1]:\n",
    "        print(a,\" is palindrome\")\n",
    "    else:\n",
    "        print(a,\" is not palindrome\")\n",
    "\n",
    "palindrome(\"izkah\")\n",
    "palindrome(\"madam\")"
   ]
  },
  {
   "cell_type": "code",
   "execution_count": 7,
   "metadata": {},
   "outputs": [
    {
     "name": "stdout",
     "output_type": "stream",
     "text": [
      "5  is Prime\n",
      "8  is not Prime\n"
     ]
    }
   ],
   "source": [
    "#Exercise 5\n",
    "def prime(a):\n",
    "    if a > 1:\n",
    "        for i in range(2,a):\n",
    "            if a%i == 0:\n",
    "                print(a,\" is not Prime\")\n",
    "                break\n",
    "            else:\n",
    "                print(a,\" is Prime\")\n",
    "                break\n",
    "    else:\n",
    "        print(\"Not Prime\")\n",
    "\n",
    "prime(5)\n",
    "prime(8)"
   ]
  },
  {
   "cell_type": "code",
   "execution_count": 9,
   "metadata": {},
   "outputs": [
    {
     "name": "stdout",
     "output_type": "stream",
     "text": [
      "No. of items: 3\n",
      "Enter Item name: Knorr Noodles\n",
      "Enter Item Price: 30\n",
      "Enter Item name: Catty Chins\n",
      "Enter Item Price: 20\n",
      "Enter Item name: Pencil\n",
      "Enter Item Price: 15\n",
      "**Shopping List**\n",
      "Item:  Knorr Noodles  Price: $ 30\n",
      "Item:  Catty Chins  Price: $ 20\n",
      "Item:  Pencil  Price: $ 15\n"
     ]
    }
   ],
   "source": [
    "#Exercise 6\n",
    "def item(a,b):\n",
    "    print(\"Item: \",a,\" Price: $\",b)\n",
    "\n",
    "d = {}\n",
    "n =  int(input(\"No. of items: \"))\n",
    "for i in range(0,n):\n",
    "    a = input(\"Enter Item name: \")\n",
    "    b = input(\"Enter Item Price: \")\n",
    "    d[a]=b\n",
    "\n",
    "print(\"**Shopping List**\")\n",
    "for j in d.keys():\n",
    "    item(j,d[j])"
   ]
  },
  {
   "cell_type": "code",
   "execution_count": null,
   "metadata": {},
   "outputs": [],
   "source": []
  }
 ],
 "metadata": {
  "kernelspec": {
   "display_name": "Python 3",
   "language": "python",
   "name": "python3"
  },
  "language_info": {
   "codemirror_mode": {
    "name": "ipython",
    "version": 3
   },
   "file_extension": ".py",
   "mimetype": "text/x-python",
   "name": "python",
   "nbconvert_exporter": "python",
   "pygments_lexer": "ipython3",
   "version": "3.7.4"
  }
 },
 "nbformat": 4,
 "nbformat_minor": 2
}
