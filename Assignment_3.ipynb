{
 "cells": [
  {
   "cell_type": "code",
   "execution_count": 1,
   "metadata": {},
   "outputs": [
    {
     "name": "stdout",
     "output_type": "stream",
     "text": [
      "Enter First Number: 2\n",
      "Enter Second Number: 3\n",
      "Enter Operation (+,-,**,/,*): *\n",
      "2*3=6\n"
     ]
    }
   ],
   "source": [
    "#Exercise 1\n",
    "a = int(input(\"Enter First Number: \"))\n",
    "b = int(input(\"Enter Second Number: \"))\n",
    "op = input(\"Enter Operation (+,-,**,/,*): \")\n",
    "if op == \"+\":\n",
    "    r = a + b\n",
    "    print(str(a)+\"+\"+str(b)+\"=\"+str(r))\n",
    "\n",
    "elif op == \"-\":\n",
    "    r = a - b\n",
    "    print(str(a)+\"-\"+str(b)+\"=\"+str(r))\n",
    "\n",
    "elif op == \"/\":\n",
    "    r = a / b\n",
    "    print(str(a)+\"/\"+str(b)+\"=\"+str(r))\n",
    "\n",
    "elif op == \"*\":\n",
    "    r = a * b\n",
    "    print(str(a)+\"*\"+str(b)+\"=\"+str(r))\n",
    "\n",
    "elif op == \"**\":\n",
    "    r = a ** b\n",
    "    print(str(a)+\"**\"+str(b)+\"=\"+str(r))\n",
    "\n",
    "else:\n",
    "    print(\"Invalid Operation\")"
   ]
  },
  {
   "cell_type": "code",
   "execution_count": 2,
   "metadata": {},
   "outputs": [
    {
     "name": "stdout",
     "output_type": "stream",
     "text": [
      "Numeric value in list  [1, 'a', 2, 3, 'c', 4] is  [1, 2, 3, 4]\n"
     ]
    }
   ],
   "source": [
    "#Exercise 2\n",
    "l = [1,'a',2,3,'c',4]\n",
    "l1=[]\n",
    "s = 0\n",
    "x = type(5)\n",
    "y = type(\"a\")\n",
    "for i in l:\n",
    "    if type(i) == x:\n",
    "        l1.append(i)\n",
    "    else:\n",
    "        pass\n",
    "\n",
    "print(\"Numeric value in list \",l,\"is \",l1)"
   ]
  },
  {
   "cell_type": "code",
   "execution_count": 3,
   "metadata": {},
   "outputs": [
    {
     "name": "stdout",
     "output_type": "stream",
     "text": [
      "Enter key: 2\n",
      "{2: ''}\n"
     ]
    }
   ],
   "source": [
    "#Exercise 3\n",
    "d = {}\n",
    "k = int(input(\"Enter key: \"))\n",
    "d[k]=''\n",
    "print(d)\n"
   ]
  },
  {
   "cell_type": "code",
   "execution_count": 4,
   "metadata": {},
   "outputs": [
    {
     "name": "stdout",
     "output_type": "stream",
     "text": [
      "Sum of dictionary is:  600\n"
     ]
    }
   ],
   "source": [
    "#Exercise 4\n",
    "sum = 0\n",
    "d = {'a':100, 'b':200,'c':300}\n",
    "for i in d:\n",
    "    sum += d[i]\n",
    "print(\"Sum of dictionary is: \",sum)"
   ]
  },
  {
   "cell_type": "code",
   "execution_count": 5,
   "metadata": {},
   "outputs": [
    {
     "name": "stdout",
     "output_type": "stream",
     "text": [
      "[2, 1]\n"
     ]
    }
   ],
   "source": [
    "#Exercise 5\n",
    "l = [1,2,3,4,2,5,6,1]\n",
    "d = []\n",
    "u = {}\n",
    "for x in l:\n",
    "    if x not in u:\n",
    "        u[x] = 1\n",
    "    else:\n",
    "        if u[x] == 1:\n",
    "            d.append(x)\n",
    "        u[x] += 1\n",
    "print(d)"
   ]
  },
  {
   "cell_type": "code",
   "execution_count": 6,
   "metadata": {},
   "outputs": [
    {
     "name": "stdout",
     "output_type": "stream",
     "text": [
      "Not Present\n"
     ]
    }
   ],
   "source": [
    "#Exercise 6\n",
    "d = {'a':100,'b':200,'c':300}\n",
    "k = 'd'\n",
    "if k in d:\n",
    "    print(\"Already Present\")\n",
    "else:\n",
    "    print(\"Not Present\")"
   ]
  },
  {
   "cell_type": "code",
   "execution_count": null,
   "metadata": {},
   "outputs": [],
   "source": []
  }
 ],
 "metadata": {
  "kernelspec": {
   "display_name": "Python 3",
   "language": "python",
   "name": "python3"
  },
  "language_info": {
   "codemirror_mode": {
    "name": "ipython",
    "version": 3
   },
   "file_extension": ".py",
   "mimetype": "text/x-python",
   "name": "python",
   "nbconvert_exporter": "python",
   "pygments_lexer": "ipython3",
   "version": "3.7.4"
  }
 },
 "nbformat": 4,
 "nbformat_minor": 2
}
