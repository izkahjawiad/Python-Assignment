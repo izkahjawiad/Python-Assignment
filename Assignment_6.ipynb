{
 "cells": [
  {
   "cell_type": "code",
   "execution_count": null,
   "metadata": {},
   "outputs": [],
   "source": [
    "#Exercise 1\n",
    "Object-oriented programming (OOP) is a programming language model in which programs are organized \n",
    "around data, or objects, rather than functions and logic. An object can be defined as a data field \n",
    "that has unique attributes and behavior. Examples of an object can range from physical entities, such \n",
    "as a human being that is described by properties like name and address, down to small computer programs, \n",
    "such as widgets. This opposes the historical approach to programming where emphasis was placed on how the \n",
    "logic was written rather than how to define the data within the logic."
   ]
  },
  {
   "cell_type": "code",
   "execution_count": null,
   "metadata": {},
   "outputs": [],
   "source": [
    "#Exercise 2\n",
    "1. Simplicity: software objects model real world objects, so the complexity is reduced and the \n",
    "    program structure is very clear. \n",
    "2. Modularity: each object forms a separate entity whose internal workings are decoupled from other \n",
    "    parts of the system. \n",
    "3. Modifiability: it is easy to make minor changes in the data representation or the procedures in an \n",
    "    OO program. Changes inside a class do not affect any other part of a program, since the only public \n",
    "    interface that the external world has to a class is through the use of methods. \n",
    "4. Extensibility: adding new features or responding to changing operating environments \n",
    "    can be solved by introducing a few new objects and modifying some existing ones. \n",
    "5. Maintainability: objects can be maintained separately, making locating and fixing problems easier. \n",
    "6. Re-usability: objects can be reused in different programs."
   ]
  },
  {
   "cell_type": "code",
   "execution_count": null,
   "metadata": {},
   "outputs": [],
   "source": [
    "#Exercise 3\n",
    "Method: A method in object-oriented programming is a procedure associated \n",
    "    with a class. A method defines the behavior of the objects that are created \n",
    "    from the class. Another way to say this is that a method is an action that an \n",
    "    object is able to perform. The association between method and class is called \n",
    "    binding. Consider the example of an object of the type 'person,' created using \n",
    "    the person class. Methods associated with this class could consist of things like \n",
    "    walking and driving. Methods are sometimes confused with functions, but they are distinct.\n",
    "\n",
    "Function: A function is a combination of instructions that are combined to \n",
    "    achieve some result. A function typically requires some input (called arguments) \n",
    "    and returns some results. For example, consider the example of driving a car. To \n",
    "    determine the mileage, you need to perform a calculation using the distance driven \n",
    "    and the amount of fuel used. You could write a function to do this calculation.\n",
    "    \n",
    "Difference: Method and a function are the same, with different terms. A method is a \n",
    "    procedure or function in object-oriented programming. A function is a group of \n",
    "    reusable code which can be called anywhere in your program. This eliminates the \n",
    "    need for writing the same code again and again. It helps programmers in writing modular codes."
   ]
  },
  {
   "cell_type": "code",
   "execution_count": null,
   "metadata": {},
   "outputs": [],
   "source": [
    "#Exercise 4\n",
    "Class: A class is a collection of method and variables. It is a blueprint that defines the data and behavior of a type.\n",
    "    \n",
    "Object: An object is a specific instance of a class; it contains real values instead of variables.\n",
    "    \n",
    "Attributes: An Attribute is a named property of a class. It has a type. It describes the range of values that that \n",
    "    property may hold.\n",
    "    \n",
    "Behavior: Behavior is the only way objects can do anything to themselves or have anything done to them."
   ]
  },
  {
   "cell_type": "code",
   "execution_count": 6,
   "metadata": {},
   "outputs": [
    {
     "name": "stdout",
     "output_type": "stream",
     "text": [
      "Toyota  cars are  White  in color.\n",
      "A3  is new model of  Audi  company having  Automatic  breaks.\n"
     ]
    }
   ],
   "source": [
    "#Exercise 5\n",
    "class Car():\n",
    "    def __init__(self,model,color,company,mileage,breaks):\n",
    "        self.model = model\n",
    "        self.color = color\n",
    "        self.company = company\n",
    "        self.mileage = mileage\n",
    "        self.breaks = breaks\n",
    "        \n",
    "    def co_color(self):\n",
    "        print(self.company,\" cars are \",self.color,\" in color.\")\n",
    "        \n",
    "    def config(self):\n",
    "        print(self.model,\" is new model of \",self.company,\" company having \",self.breaks,\" breaks.\")\n",
    "        \n",
    "obj1 = Car(\"XLI\",\"Black\",\"Toyota\",\"16km/hr\",\"Manual\")\n",
    "obj2 = Car(\"GLI\",\"White\",\"Toyota\",\"18km/hr\",\"Manual\")\n",
    "obj2.co_color()\n",
    "obj3 = Car(\"A3\",\"White\",\"Audi\",\"16km/hr\",\"Automatic\")\n",
    "obj3.config()\n",
    "obj4 = Car(\"Altis\",\"Black\",\"Toyota\",\"16km/hr\",\"Manual\")\n",
    "obj5 = Car(\"vitz\",\"Black\",\"Toyota\",\"10km/hr\",\"Manual\")\n",
    "        "
   ]
  },
  {
   "cell_type": "code",
   "execution_count": null,
   "metadata": {},
   "outputs": [],
   "source": []
  }
 ],
 "metadata": {
  "kernelspec": {
   "display_name": "Python 3",
   "language": "python",
   "name": "python3"
  },
  "language_info": {
   "codemirror_mode": {
    "name": "ipython",
    "version": 3
   },
   "file_extension": ".py",
   "mimetype": "text/x-python",
   "name": "python",
   "nbconvert_exporter": "python",
   "pygments_lexer": "ipython3",
   "version": "3.7.4"
  }
 },
 "nbformat": 4,
 "nbformat_minor": 2
}
