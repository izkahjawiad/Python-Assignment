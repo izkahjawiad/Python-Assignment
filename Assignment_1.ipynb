{
 "cells": [
  {
   "cell_type": "code",
   "execution_count": 1,
   "metadata": {},
   "outputs": [
    {
     "name": "stdout",
     "output_type": "stream",
     "text": [
      "Twinkle, twinkle, little star,\n",
      "      How I wonder what you are!\n",
      "            Up above the world so high,\n",
      "            Like a diamond in the sky.\n",
      "Twinkle, twinkle, little star,\n",
      "      How I wonder what you are\n"
     ]
    }
   ],
   "source": [
    "print(\"\"\"Twinkle, twinkle, little star,\n",
    "      How I wonder what you are!\n",
    "            Up above the world so high,\n",
    "            Like a diamond in the sky.\n",
    "Twinkle, twinkle, little star,\n",
    "      How I wonder what you are\"\"\")"
   ]
  },
  {
   "cell_type": "code",
   "execution_count": 2,
   "metadata": {},
   "outputs": [
    {
     "name": "stdout",
     "output_type": "stream",
     "text": [
      "Python Version\n",
      "3.7.4 (default, Aug  9 2019, 18:34:13) [MSC v.1915 64 bit (AMD64)]\n"
     ]
    }
   ],
   "source": [
    "import sys\n",
    "print(\"Python Version\")\n",
    "print(sys.version)"
   ]
  },
  {
   "cell_type": "code",
   "execution_count": 3,
   "metadata": {},
   "outputs": [
    {
     "name": "stdout",
     "output_type": "stream",
     "text": [
      "Date and Time:  03/11/19 13:28:50\n"
     ]
    }
   ],
   "source": [
    "from datetime import datetime\n",
    "#datetime object\n",
    "now = datetime.now()\n",
    "\n",
    "#dd/mm/YY H:M:S\n",
    "dt_string = now.strftime(\"%d/%m/%y %H:%M:%S\")\n",
    "print(\"Date and Time: \",dt_string)"
   ]
  },
  {
   "cell_type": "code",
   "execution_count": 4,
   "metadata": {},
   "outputs": [
    {
     "name": "stdout",
     "output_type": "stream",
     "text": [
      "Radius in cm: 7\n",
      "Area:  153.958  sq.cm\n"
     ]
    }
   ],
   "source": [
    "r = float(input(\"Radius in cm: \"))\n",
    "pi = 3.142\n",
    "formula = pi*(r**2)\n",
    "print(\"Area: \",formula,\" sq.cm\")"
   ]
  },
  {
   "cell_type": "code",
   "execution_count": 5,
   "metadata": {},
   "outputs": [
    {
     "name": "stdout",
     "output_type": "stream",
     "text": [
      "First Name: IZKAH\n",
      "Last Name: JAWAID\n",
      "DIAWAJ HAKZI\n"
     ]
    }
   ],
   "source": [
    "F = input(\"First Name: \")\n",
    "L = input(\"Last Name: \")\n",
    "R = F + \" \" + L\n",
    "R = R[::-1]\n",
    "print(R)\n"
   ]
  },
  {
   "cell_type": "code",
   "execution_count": 6,
   "metadata": {},
   "outputs": [
    {
     "name": "stdout",
     "output_type": "stream",
     "text": [
      "First Number: 7\n",
      "Second Number: 2.5\n",
      "The sum of  7.0  and  2.5  is  9.5\n"
     ]
    }
   ],
   "source": [
    "A = float(input(\"First Number: \"))\n",
    "B = float(input(\"Second Number: \"))\n",
    "C = A + B\n",
    "print(\"The sum of \",A,\" and \",B,\" is \",C)"
   ]
  },
  {
   "cell_type": "code",
   "execution_count": null,
   "metadata": {},
   "outputs": [],
   "source": []
  }
 ],
 "metadata": {
  "kernelspec": {
   "display_name": "Python 3",
   "language": "python",
   "name": "python3"
  },
  "language_info": {
   "codemirror_mode": {
    "name": "ipython",
    "version": 3
   },
   "file_extension": ".py",
   "mimetype": "text/x-python",
   "name": "python",
   "nbconvert_exporter": "python",
   "pygments_lexer": "ipython3",
   "version": "3.7.4"
  }
 },
 "nbformat": 4,
 "nbformat_minor": 2
}
